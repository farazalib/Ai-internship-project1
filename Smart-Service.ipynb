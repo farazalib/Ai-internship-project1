{
 "cells": [
  {
   "cell_type": "code",
   "execution_count": 11,
   "id": "9e4c3e69-17c4-41e2-918f-6b1c1ce16842",
   "metadata": {},
   "outputs": [
    {
     "name": "stdout",
     "output_type": "stream",
     "text": [
      "🔹 Logistic Regression Results\n",
      "Accuracy: 1.0\n",
      "F1 Score: 1.0\n",
      "Confusion Matrix:\n",
      " [[43  0  0  0  0]\n",
      " [ 0 45  0  0  0]\n",
      " [ 0  0 45  0  0]\n",
      " [ 0  0  0 40  0]\n",
      " [ 0  0  0  0 47]]\n",
      "                    precision    recall  f1-score   support\n",
      "\n",
      "       3D Modeling       1.00      1.00      1.00        43\n",
      "      AI Solutions       1.00      1.00      1.00        45\n",
      "    Graphic Design       1.00      1.00      1.00        45\n",
      "Project Management       1.00      1.00      1.00        40\n",
      "   Web Development       1.00      1.00      1.00        47\n",
      "\n",
      "          accuracy                           1.00       220\n",
      "         macro avg       1.00      1.00      1.00       220\n",
      "      weighted avg       1.00      1.00      1.00       220\n",
      "\n",
      "\n",
      "🔹 SVM Results\n",
      "Accuracy: 1.0\n",
      "F1 Score: 1.0\n",
      "Confusion Matrix:\n",
      " [[43  0  0  0  0]\n",
      " [ 0 45  0  0  0]\n",
      " [ 0  0 45  0  0]\n",
      " [ 0  0  0 40  0]\n",
      " [ 0  0  0  0 47]]\n",
      "                    precision    recall  f1-score   support\n",
      "\n",
      "       3D Modeling       1.00      1.00      1.00        43\n",
      "      AI Solutions       1.00      1.00      1.00        45\n",
      "    Graphic Design       1.00      1.00      1.00        45\n",
      "Project Management       1.00      1.00      1.00        40\n",
      "   Web Development       1.00      1.00      1.00        47\n",
      "\n",
      "          accuracy                           1.00       220\n",
      "         macro avg       1.00      1.00      1.00       220\n",
      "      weighted avg       1.00      1.00      1.00       220\n",
      "\n"
     ]
    },
    {
     "data": {
      "text/plain": [
       "['E:\\\\AI-project\\\\vectorizer.pkl']"
      ]
     },
     "execution_count": 11,
     "metadata": {},
     "output_type": "execute_result"
    }
   ],
   "source": [
    "import pandas as pd\n",
    "from sklearn.model_selection import train_test_split\n",
    "from sklearn.feature_extraction.text import TfidfVectorizer\n",
    "from sklearn.linear_model import LogisticRegression\n",
    "from sklearn.svm import LinearSVC\n",
    "from sklearn.metrics import accuracy_score, f1_score, confusion_matrix, classification_report\n",
    "import joblib\n",
    "\n",
    "# Load dataset\n",
    "df = pd.read_csv(r\"E:\\AI-project\\service_inquiries_dataset.csv\")\n",
    "\n",
    "# Train-test split\n",
    "X_train, X_test, y_train, y_test = train_test_split(\n",
    "    df['text'], df['label'], test_size=0.2, random_state=42\n",
    ")\n",
    "\n",
    "# TF-IDF Vectorization\n",
    "vectorizer = TfidfVectorizer(max_features=3000, stop_words='english')\n",
    "X_train_tfidf = vectorizer.fit_transform(X_train)\n",
    "X_test_tfidf = vectorizer.transform(X_test)\n",
    "\n",
    "# -------------------\n",
    "# Baseline: Logistic Regression\n",
    "# -------------------\n",
    "log_reg = LogisticRegression(max_iter=1000)\n",
    "log_reg.fit(X_train_tfidf, y_train)\n",
    "y_pred_log = log_reg.predict(X_test_tfidf)\n",
    "\n",
    "print(\"🔹 Logistic Regression Results\")\n",
    "print(\"Accuracy:\", accuracy_score(y_test, y_pred_log))\n",
    "print(\"F1 Score:\", f1_score(y_test, y_pred_log, average='weighted'))\n",
    "print(\"Confusion Matrix:\\n\", confusion_matrix(y_test, y_pred_log))\n",
    "print(classification_report(y_test, y_pred_log))\n",
    "\n",
    "# -------------------\n",
    "# Improved: SVM\n",
    "# -------------------\n",
    "svm_model = LinearSVC()\n",
    "svm_model.fit(X_train_tfidf, y_train)\n",
    "y_pred_svm = svm_model.predict(X_test_tfidf)\n",
    "\n",
    "print(\"\\n🔹 SVM Results\")\n",
    "print(\"Accuracy:\", accuracy_score(y_test, y_pred_svm))\n",
    "print(\"F1 Score:\", f1_score(y_test, y_pred_svm, average='weighted'))\n",
    "print(\"Confusion Matrix:\\n\", confusion_matrix(y_test, y_pred_svm))\n",
    "print(classification_report(y_test, y_pred_svm))\n",
    "\n",
    "# -------------------\n",
    "# Save best model (suppose SVM wins)\n",
    "# -------------------\n",
    "joblib.dump(svm_model, \"E:\\AI-project\\service_classifier.pkl\")\n",
    "joblib.dump(vectorizer, r\"E:\\AI-project\\vectorizer.pkl\")"
   ]
  },
  {
   "cell_type": "code",
   "execution_count": 20,
   "id": "ea65bf73-1856-4b30-9331-dd45aa5185de",
   "metadata": {},
   "outputs": [
    {
     "name": "stdout",
     "output_type": "stream",
     "text": [
      "Predicted service: AI Solutions\n"
     ]
    }
   ],
   "source": [
    "import joblib\n",
    "\n",
    "# Load model and vectorizer\n",
    "model = joblib.load(r\"E:\\AI-project\\service_classifier.pkl\")\n",
    "vectorizer = joblib.load(r\"E:\\AI-project\\vectorizer.pkl\")\n",
    "\n",
    "# Test with new sample input\n",
    "sample_text = [\" We build AI-powered tools that help businesses save time, reduce costs, and make better decisions. From predicting sales to answering customer questions, our AI works in the background so you can focus on growing your business.\"]\n",
    "sample_tfidf = vectorizer.transform(sample_text)\n",
    "prediction = model.predict(sample_tfidf)\n",
    "\n",
    "print(\"Predicted service:\", prediction[0])\n"
   ]
  },
  {
   "cell_type": "code",
   "execution_count": null,
   "id": "cf39ea1e-e2d6-4970-b008-f4cbad8f93e6",
   "metadata": {},
   "outputs": [],
   "source": []
  }
 ],
 "metadata": {
  "kernelspec": {
   "display_name": "Python 3 (ipykernel)",
   "language": "python",
   "name": "python3"
  },
  "language_info": {
   "codemirror_mode": {
    "name": "ipython",
    "version": 3
   },
   "file_extension": ".py",
   "mimetype": "text/x-python",
   "name": "python",
   "nbconvert_exporter": "python",
   "pygments_lexer": "ipython3",
   "version": "3.13.5"
  }
 },
 "nbformat": 4,
 "nbformat_minor": 5
}
